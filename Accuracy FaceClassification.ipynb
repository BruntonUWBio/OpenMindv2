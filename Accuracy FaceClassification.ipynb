{
 "cells": [
  {
   "cell_type": "code",
   "execution_count": 1,
   "metadata": {},
   "outputs": [],
   "source": [
    "import pandas as pd\n",
    "import numpy as np\n",
    "import matplotlib.pyplot as plt"
   ]
  },
  {
   "cell_type": "code",
   "execution_count": 51,
   "metadata": {},
   "outputs": [
    {
     "name": "stdout",
     "output_type": "stream",
     "text": [
      "       vid  frame   timestamp   patient session annotated  predicted  \\\n",
      "0     0028      1       0.000  a1d36553       3  Sleeping      False   \n",
      "1     0028      2       0.033  a1d36553       3  Sleeping      False   \n",
      "2     0028      3       0.067  a1d36553       3  Sleeping      False   \n",
      "3     0028      4       0.100  a1d36553       3  Sleeping      False   \n",
      "4     0028      5       0.133  a1d36553       3  Sleeping      False   \n",
      "5     0028      6       0.167  a1d36553       3  Sleeping      False   \n",
      "6     0028      7       0.200  a1d36553       3  Sleeping      False   \n",
      "7     0028      8       0.233  a1d36553       3  Sleeping      False   \n",
      "8     0028      9       0.267  a1d36553       3  Sleeping      False   \n",
      "9     0028     10       0.300  a1d36553       3  Sleeping      False   \n",
      "10    0028     11       0.333  a1d36553       3  Sleeping      False   \n",
      "11    0028     12       0.367  a1d36553       3  Sleeping      False   \n",
      "12    0028     13       0.400  a1d36553       3  Sleeping      False   \n",
      "13    0028     14       0.433  a1d36553       3  Sleeping      False   \n",
      "14    0028     15       0.467  a1d36553       3  Sleeping      False   \n",
      "15    0028     16       0.500  a1d36553       3  Sleeping      False   \n",
      "16    0028     17       0.533  a1d36553       3  Sleeping      False   \n",
      "17    0028     18       0.567  a1d36553       3  Sleeping      False   \n",
      "18    0028     19       0.600  a1d36553       3  Sleeping      False   \n",
      "19    0028     20       0.633  a1d36553       3  Sleeping      False   \n",
      "20    0028     21       0.667  a1d36553       3  Sleeping      False   \n",
      "21    0028     22       0.700  a1d36553       3  Sleeping      False   \n",
      "22    0028     23       0.733  a1d36553       3  Sleeping      False   \n",
      "23    0028     24       0.767  a1d36553       3  Sleeping      False   \n",
      "24    0028     25       0.800  a1d36553       3  Sleeping      False   \n",
      "25    0028     26       0.833  a1d36553       3  Sleeping      False   \n",
      "26    0028     27       0.867  a1d36553       3  Sleeping      False   \n",
      "27    0028     28       0.900  a1d36553       3  Sleeping      False   \n",
      "28    0028     29       0.933  a1d36553       3  Sleeping      False   \n",
      "29    0028     30       0.967  a1d36553       3  Sleeping      False   \n",
      "...    ...    ...         ...       ...     ...       ...        ...   \n",
      "1157  0678   1158      38.567  a1d36553       3  Sleeping      False   \n",
      "1159  0678   1160      38.633  a1d36553       3  Sleeping      False   \n",
      "1162  0678   1163      38.733  a1d36553       3  Sleeping      False   \n",
      "1163  0678   1164      38.767  a1d36553       3  Sleeping      False   \n",
      "1164  0678   1165      38.800  a1d36553       3  Sleeping      False   \n",
      "1165  0678   1166      38.833  a1d36553       3  Sleeping      False   \n",
      "1166  0678   1167      38.867  a1d36553       3  Sleeping      False   \n",
      "1167  0678   1168      38.900  a1d36553       3  Sleeping      False   \n",
      "1168  0678   1169      38.933  a1d36553       3  Sleeping      False   \n",
      "1169  0678   1170      38.967  a1d36553       3  Sleeping      False   \n",
      "1170  0678   1171      39.000  a1d36553       3  Sleeping      False   \n",
      "1171  0678   1172      39.033  a1d36553       3  Sleeping      False   \n",
      "1172  0678   1173      39.067  a1d36553       3  Sleeping      False   \n",
      "1173  0678   1174      39.100  a1d36553       3  Sleeping      False   \n",
      "1174  0678   1175      39.133  a1d36553       3  Sleeping      False   \n",
      "1175  0678   1176      39.167  a1d36553       3  Sleeping      False   \n",
      "1176  0678   1177      39.200  a1d36553       3  Sleeping      False   \n",
      "1177  0678   1178      39.233  a1d36553       3  Sleeping      False   \n",
      "1179  0678   1180      39.300  a1d36553       3  Sleeping      False   \n",
      "1183  0678   1184      39.433  a1d36553       3  Sleeping      False   \n",
      "1249  0678   1250      41.633  a1d36553       3  Sleeping      False   \n",
      "1320  0678   1321      44.000  a1d36553       3  Sleeping      False   \n",
      "1358  0678   1359      45.267  a1d36553       3  Sleeping      False   \n",
      "1365  0678   1366      45.500  a1d36553       3   Neutral      False   \n",
      "1376  0678   1377      45.867  a1d36553       3   Neutral      False   \n",
      "1378  0678   1379      45.933  a1d36553       3   Neutral      False   \n",
      "1379  0678   1380      45.967  a1d36553       3   Neutral      False   \n",
      "1396  0678   1397      46.533  a1d36553       3   Neutral      False   \n",
      "1403  0678   1404      46.767  a1d36553       3   Neutral      False   \n",
      "1460  0678   1461      48.667  a1d36553       3   Neutral      False   \n",
      "\n",
      "       confidence  \n",
      "0            0.88  \n",
      "1            0.88  \n",
      "2            0.88  \n",
      "3            0.88  \n",
      "4            0.98  \n",
      "5            0.98  \n",
      "6            0.98  \n",
      "7            0.98  \n",
      "8            0.98  \n",
      "9            0.98  \n",
      "10           0.98  \n",
      "11           0.98  \n",
      "12           0.98  \n",
      "13           0.98  \n",
      "14           0.98  \n",
      "15           0.98  \n",
      "16           0.98  \n",
      "17           0.98  \n",
      "18           0.98  \n",
      "19           0.98  \n",
      "20           0.98  \n",
      "21           0.98  \n",
      "22           0.98  \n",
      "23           0.98  \n",
      "24           0.88  \n",
      "25           0.88  \n",
      "26           0.88  \n",
      "27           0.88  \n",
      "28           0.88  \n",
      "29           0.88  \n",
      "...           ...  \n",
      "1157         0.88  \n",
      "1159         0.85  \n",
      "1162         0.78  \n",
      "1163         0.82  \n",
      "1164         0.88  \n",
      "1165         0.88  \n",
      "1166         0.88  \n",
      "1167         0.88  \n",
      "1168         0.88  \n",
      "1169         0.88  \n",
      "1170         0.98  \n",
      "1171         0.88  \n",
      "1172         0.88  \n",
      "1173         0.88  \n",
      "1174         0.88  \n",
      "1175         0.88  \n",
      "1176         0.88  \n",
      "1177         0.88  \n",
      "1179         0.88  \n",
      "1183         0.85  \n",
      "1249         0.78  \n",
      "1320         0.75  \n",
      "1358         0.88  \n",
      "1365         0.75  \n",
      "1376         0.75  \n",
      "1378         0.85  \n",
      "1379         0.75  \n",
      "1396         0.82  \n",
      "1403         0.75  \n",
      "1460         0.98  \n",
      "\n",
      "[11389 rows x 8 columns]\n"
     ]
    }
   ],
   "source": [
    "df=pd.read_hdf('/home/emil/data/hdf_data/a1d36553/a1d36553_3.hdf')\n",
    "print(df)"
   ]
  },
  {
   "cell_type": "code",
   "execution_count": 57,
   "metadata": {},
   "outputs": [
    {
     "name": "stdout",
     "output_type": "stream",
     "text": [
      "('These elements are in the prediction:', array([u'Sleeping', u'Neutral', u'Happy', u'', u'Disgust'], dtype=object))\n",
      "('Label Happy:', (423,), 'Prediction Happy:', (0,))\n"
     ]
    }
   ],
   "source": [
    "label=df.annotated.values\n",
    "prediction=df.predicted.values\n",
    "#labels_class=label[label!='N/A']\n",
    "#just to check:\n",
    "print('These elements are in the prediction:',df['annotated'].unique())\n",
    "#get it in comparable format\n",
    "happy_idx=np.where(label=='Happy')\n",
    "l_mask=np.zeros(label.shape,dtype=bool)\n",
    "l_mask[happy_idx]=True\n",
    "#get happy idx in predictions\n",
    "pr_happy_idx=np.where(prediction==True)\n",
    "print('Label Happy:',happy_idx[0].shape,'Prediction Happy:', pr_happy_idx[0].shape)\n",
    "pr_mask=np.zeros(label.shape,dtype=bool)\n",
    "pr_mask[pr_happy_idx]=True\n",
    "#get recall (TPR)\n",
    "#tp=np.sum(pr_mask[happy_idx])/np.sum(pr_mask[l_mask!=True])\n",
    "#get accuracy ()"
   ]
  },
  {
   "cell_type": "code",
   "execution_count": 58,
   "metadata": {},
   "outputs": [
    {
     "data": {
      "text/plain": [
       "Text(0.5,0,'Time per Frame (30FPS)')"
      ]
     },
     "execution_count": 58,
     "metadata": {},
     "output_type": "execute_result"
    },
    {
     "data": {
      "image/png": "[encoded data removed]",
      "text/plain": [
       "<Figure size 432x288 with 1 Axes>"
      ]
     },
     "metadata": {
      "needs_background": "light"
     },
     "output_type": "display_data"
    }
   ],
   "source": [
    "plt.plot(label)\n",
    "plt.xlabel('Time per Frame (30FPS)')"
   ]
  }
 ],
 "metadata": {
  "kernelspec": {
   "display_name": "Python (openmind)",
   "language": "python",
   "name": "openmind"
  },
  "language_info": {
   "codemirror_mode": {
    "name": "ipython",
    "version": 2
   },
   "file_extension": ".py",
   "mimetype": "text/x-python",
   "name": "python",
   "nbconvert_exporter": "python",
   "pygments_lexer": "ipython2",
   "version": "2.7.15"
  }
 },
 "nbformat": 4,
 "nbformat_minor": 2
}
