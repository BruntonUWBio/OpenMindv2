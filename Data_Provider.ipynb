{
 "cells": [
  {
   "cell_type": "code",
   "execution_count": 4,
   "metadata": {},
   "outputs": [],
   "source": [
    "import pandas as pd\n",
    "from FeatureRelated.feature_generator import Feature_generator\n",
    "from LabelRelated.label_generator import Label_generator \n",
    "from FeatureRelated.feature_data_holder import FeatDataHolder\n",
    "from LabelRelated.label_data_holder import LabelDataHolder\n",
    "import numpy as np"
   ]
  },
  {
   "cell_type": "code",
   "execution_count": 2,
   "metadata": {},
   "outputs": [],
   "source": [
    "#get datasets\n",
    "def get_data(wsize=100,sliding=10,s_sample=0,e_sample=12500, s_sample_ev=9000, e_sample_ev=12000):\n",
    "    \n",
    "    feat_data = FeatDataHolder('/data2/users/stepeter/Preprocessing/processed_cb46fd46_4.h5')\n",
    "    label_data = LabelDataHolder('/home/emil/data/hdf_data/cb46fd46_8_imp_columns.hdf',feat_data.start,feat_data.end)\n",
    "\n",
    "\n",
    "    #edf_path, emo_path=get_paths(pat_name,sess)\n",
    "    featuregen = Feature_generator(feat_data,wsize=wsize)\n",
    "    lablegen = Label_generator(label_data,mask=featuregen.mask_bin,wsize=wsize)\n",
    "\n",
    "    x = featuregen.generate_features(start=s_sample,end=e_sample,expl_variance=95,train=True,sliding_window=sliding)\n",
    "\n",
    "    y,rat = lablegen.generate_labels(start=s_sample,end=e_sample, sliding_window=sliding, classification=True)\n",
    "\n",
    "    x_ev = featuregen.generate_features(start = s_sample_ev,end = e_sample_ev,train = False,sliding_window = sliding)\n",
    "    y_ev, y_ev_rat = lablegen.generate_labels(start = s_sample_ev,end = e_sample_ev,sliding_window = sliding,classification=True)\n",
    "    \n",
    "    x = x[~np.isnan(y)]\n",
    "    y = y[~np.isnan(y)]\n",
    "    x_ev = x_ev[~np.isnan(y_ev)]\n",
    "    y_ev = y_ev[~np.isnan(y_ev)]\n",
    "\n",
    "    return x,y,x_ev,y_ev\n",
    "\n",
    "def get_data_from_file(wsize=100,sliding=10,s_sample=0,e_sample=12500, s_sample_ev=9000, e_sample_ev=12000):\n",
    "    link='./data/ws_'+str(wsize)+'_str_'+str(sliding)+'_tr'+'_s_'+str(s_sample)+'_e_'+str(e_sample)+'_ev_'+'s_'+str(s_sample_ev)+'_e_'+str(e_sample_ev)+'.hdf'\n",
    "    df = pd.read_hdf(link)\n",
    "    x = df['x'][0]\n",
    "    y = df['y'][0]\n",
    "    x_ev = df['x_ev'][0]\n",
    "    y_ev = df['y_ev'][0]\n",
    "    \n",
    "    return x,y,x_ev,y_ev\n",
    "\n",
    "def save_data_to_file(x,y,x_ev,y_ev,wsize=100,sliding=10,s_sample=0,e_sample=12500, s_sample_ev=9000, e_sample_ev=12000):\n",
    "    link='./data/ws_'+str(wsize)+'_str_'+str(sliding)+'_tr'+'_s_'+str(s_sample)+'_e_'+str(e_sample)+'_ev_'+'s_'+str(s_sample_ev)+'_e_'+str(e_sample_ev)+'.hdf'\n",
    "#     link_ev='./data/ws'+str(wsize)+'sl'+str(sliding)+'s'+str(s_sample_ev)+'e'+str(e_sample_ev)+'_ev.hdf'\n",
    "    #save stuff to file:\n",
    "    df = pd.DataFrame(data=[[x,y,x_ev,y_ev]],columns=['x','y','x_ev','y_ev'])\n",
    "#     df_tr.to_hdf(link_tr,key='df')\n",
    "#     df_ev = pd.DataFrame(data=[[x_ev,y_ev]],columns=['x_ev','y_ev'])\n",
    "#     df_ev.to_hdf(link_ev,key='df')\n",
    "#     df_ev = pd.DataFrame(data=[[x_ev,y_ev]],columns=['x_ev','y_ev'])\n",
    "    df.to_hdf(link,key='df')"
   ]
  }
 ],
 "metadata": {
  "kernelspec": {
   "display_name": "P3 emocog",
   "language": "python",
   "name": "emocog"
  },
  "language_info": {
   "codemirror_mode": {
    "name": "ipython",
    "version": 3
   },
   "file_extension": ".py",
   "mimetype": "text/x-python",
   "name": "python",
   "nbconvert_exporter": "python",
   "pygments_lexer": "ipython3",
   "version": "3.7.3"
  }
 },
 "nbformat": 4,
 "nbformat_minor": 2
}
