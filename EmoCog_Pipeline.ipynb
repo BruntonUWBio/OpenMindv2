{
 "cells": [
  {
   "cell_type": "code",
   "execution_count": 1,
   "metadata": {},
   "outputs": [
    {
     "ename": "ImportError",
     "evalue": "No module named pca_ecog",
     "output_type": "error",
     "traceback": [
      "\u001b[0;31m---------------------------------------------------------------------------\u001b[0m",
      "\u001b[0;31mImportError\u001b[0m                               Traceback (most recent call last)",
      "\u001b[0;32m<ipython-input-1-b226e669cd86>\u001b[0m in \u001b[0;36m<module>\u001b[0;34m()\u001b[0m\n\u001b[1;32m      2\u001b[0m \u001b[0;32mimport\u001b[0m \u001b[0mmatplotlib\u001b[0m\u001b[0;34m.\u001b[0m\u001b[0mpyplot\u001b[0m \u001b[0;32mas\u001b[0m \u001b[0mplt\u001b[0m\u001b[0;34m\u001b[0m\u001b[0m\n\u001b[1;32m      3\u001b[0m \u001b[0;32mimport\u001b[0m \u001b[0mpandas\u001b[0m \u001b[0;32mas\u001b[0m \u001b[0mpd\u001b[0m\u001b[0;34m\u001b[0m\u001b[0m\n\u001b[0;32m----> 4\u001b[0;31m \u001b[0;32mfrom\u001b[0m \u001b[0mpca_ecog\u001b[0m \u001b[0;32mimport\u001b[0m \u001b[0mPCA_Ecog_preprocessed\u001b[0m\u001b[0;34m\u001b[0m\u001b[0m\n\u001b[0m\u001b[1;32m      5\u001b[0m \u001b[0;32mimport\u001b[0m \u001b[0mwarnings\u001b[0m\u001b[0;34m\u001b[0m\u001b[0m\n",
      "\u001b[0;31mImportError\u001b[0m: No module named pca_ecog"
     ]
    }
   ],
   "source": [
    "import numpy as np\n",
    "import matplotlib.pyplot as plt\n",
    "import pandas as pd\n",
    "from pca_ecog import PCA_Ecog_preprocessed\n",
    "import warnings"
   ]
  },
  {
   "cell_type": "code",
   "execution_count": null,
   "metadata": {},
   "outputs": [],
   "source": [
    "class Regression_Pipeline():\n",
    "    def __init__(pat_name,sess):\n",
    "        #create\n",
    "        edf_path, emo_path=self.get_paths(pat_name,sess)\n",
    "        self.pecog=PCA_Ecog_preprocessed(edf_path)\n",
    "        #TODO this part\n",
    "        self.emo_data=pd.read_hdf(emo_path)\n",
    "        \n",
    "    def get_paths(self, pat_name,sess):\n",
    "        #path for preprocessed edf data. THIS ASSUMES CODE IS RUN ON CYLON\n",
    "        edf_path=os.path.join(os.path.sep,'/data2/users/stepeter/Preprocessing/Reref','preprocessed_'+pat_name+'_'+sess+'.h5')\n",
    "        #path for emo annotations. THIS ASSUMES CODE IS WHERE THIS LINKS,\n",
    "        emo_path=os.path.join(os.path.sep,'/home/emil/data/hdf_data',pat_name+'_'+sess+'.h5')\n",
    "    \n",
    "    def setup_range(start=0,stop=self.pecog.end)\n",
    "        #for now, assume that both start at the same time. fix this as soon as real time is available\n",
    "        \n",
    "    "
   ]
  }
 ],
 "metadata": {
  "kernelspec": {
   "display_name": "Python 3",
   "language": "python",
   "name": "python3"
  },
  "language_info": {
   "codemirror_mode": {
    "name": "ipython",
    "version": 2
   },
   "file_extension": ".py",
   "mimetype": "text/x-python",
   "name": "python",
   "nbconvert_exporter": "python",
   "pygments_lexer": "ipython2",
   "version": "2.7.15"
  }
 },
 "nbformat": 4,
 "nbformat_minor": 2
}
