{
 "cells": [
  {
   "cell_type": "code",
   "execution_count": 1,
   "metadata": {},
   "outputs": [],
   "source": [
    "import numpy as np\n",
    "import matplotlib.pyplot as plt\n",
    "import pandas as pd\n",
    "from pca_ecog import PCA_Ecog_preprocessed"
   ]
  },
  {
   "cell_type": "code",
   "execution_count": null,
   "metadata": {},
   "outputs": [],
   "source": [
    "class Regression_Pipeline():\n",
    "    def __init__(pat_name,sess):\n",
    "        #create\n",
    "        self.get_paths(pat_name,sess)\n",
    "        self.pecog=PCA_Ecog_preprocessed()\n",
    "        \n",
    "    def get_paths(pat_name,sess):\n",
    "        #path for preprocessed edf data. THIS ASSUMES CODE IS RUN ON CYLON\n",
    "        edf_path=os.path.join('/data2/users/stepeter/Preprocessing/Reref','preprocessed_'+pat_name+'_'+sess+'.h5')\n",
    "        #path for emo annotations. THIS ASSUMES CODE IS WHERE THIS LINKS,\n",
    "        emo_path=os.path.join('/data2/users/stepeter/Preprocessing/Reref','preprocessed_'+pat_name+'_'+sess+'.h5')"
   ]
  }
 ],
 "metadata": {
  "kernelspec": {
   "display_name": "Python 3",
   "language": "python",
   "name": "python3"
  },
  "language_info": {
   "codemirror_mode": {
    "name": "ipython",
    "version": 2
   },
   "file_extension": ".py",
   "mimetype": "text/x-python",
   "name": "python",
   "nbconvert_exporter": "python",
   "pygments_lexer": "ipython2",
   "version": "2.7.15"
  }
 },
 "nbformat": 4,
 "nbformat_minor": 2
}
