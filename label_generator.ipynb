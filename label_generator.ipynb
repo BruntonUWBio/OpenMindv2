{
 "cells": [
  {
   "cell_type": "code",
   "execution_count": null,
   "metadata": {},
   "outputs": [],
   "source": [
    "import numpy as np\n",
    "import matplotlib.pyplot as plt\n",
    "import pandas as pd\n",
    "import warnings"
   ]
  },
  {
   "cell_type": "code",
   "execution_count": null,
   "metadata": {},
   "outputs": [],
   "source": [
    "class Label_provider():\n",
    "    def __init__(self,path,wsize=30,start=0,stop=None):\n",
    "        self.df=pd.read_csv(path,error_bad_lines=False, low_memory=False)\n",
    "        self.fps=30\n",
    "        #account for 30FPS\n",
    "        self.start=start*self.fps\n",
    "        if stop is None:\n",
    "            self.stop=self.df.shape[0]\n",
    "        else:\n",
    "            self.stop=stop*self.fps\n",
    "        self.wsize=wsize\n",
    "        self.df=self.df.loc[start:stop,self.df.columns!= 'datetime']\n",
    "        self._convert_to_unix_time()\n",
    "        self._bin_preds()\n",
    "        self.generate_labels()\n",
    "        \n",
    "    def _convert_to_unix_time(self):        \n",
    "        #unix time in miliseconds\n",
    "        newcol = (pd.DatetimeIndex(self.df['realtime'])).astype(np.int64)//10**(6)\n",
    "        self.df=self.df.assign(unix_time=newcol)\n",
    "    \n",
    "    def _bin_preds(self):\n",
    "        annot=self.df['Happy_predicted'].values\n",
    "        #bin s.t. each column is one sec.\n",
    "        end=annot.shape[0]//self.fps\n",
    "        self.pred_bin=annot[:self.fps*end].reshape(self.fps,-1)\n",
    "\n",
    "    #generates \n",
    "    def generate_labels(self):\n",
    "        happy_portion=np.mean(self.pred_bin,axis=0)\n",
    "        print(np.median(happy_portion))\n",
    "        #take average over windows size\n",
    "        end=ss.shape[0]//self.wsize\n",
    "        sprt=ss[:end*self.wsize].reshape(self.wsize,-1)\n",
    "        self.labels=np.mean(sprt,axis=0)\n",
    "        \n",
    "    def pool(self,start=0,stop=None):\n",
    "        emotions=[]\n",
    "        for i in range(start,stop,self.wsize):\n",
    "            emotion=np.mean(self.df['Happy_predicted'].values[start:stop])\n",
    "            emotions+=[emotion]\n",
    "        return emotions"
   ]
  },
  {
   "cell_type": "code",
   "execution_count": null,
   "metadata": {},
   "outputs": [],
   "source": [
    "test=Label_provider('/home/emil/data/hdf_data/cb46fd46_5_realtime.csv')"
   ]
  },
  {
   "cell_type": "code",
   "execution_count": null,
   "metadata": {},
   "outputs": [],
   "source": [
    "ss=np.mean(test.pred_bin,axis=0)"
   ]
  },
  {
   "cell_type": "code",
   "execution_count": null,
   "metadata": {},
   "outputs": [],
   "source": []
  },
  {
   "cell_type": "code",
   "execution_count": null,
   "metadata": {},
   "outputs": [],
   "source": [
    "print(np.max(sprt))"
   ]
  },
  {
   "cell_type": "code",
   "execution_count": null,
   "metadata": {},
   "outputs": [],
   "source": [
    "print(np.mean(test.df[['Happy_predicted']].values[0:3000,]))"
   ]
  },
  {
   "cell_type": "code",
   "execution_count": null,
   "metadata": {},
   "outputs": [],
   "source": [
    "ss=np.arange(32).reshape(4,8)\n",
    "tt=8//3\n",
    "ss=ss[:,:tt*3]\n",
    "print(ss)\n",
    "ss=ss.reshape(ss.shape[0],tt,3)\n",
    "print(ss)\n",
    "ll=np.arange(tt*3).reshape(tt,3)\n",
    "mask=np.all(ll,axis=1)\n",
    "mask=[False,False]"
   ]
  },
  {
   "cell_type": "code",
   "execution_count": null,
   "metadata": {},
   "outputs": [],
   "source": [
    "kk=pd.DataFrame({'A': range(1, 11), 'B': np.random.randn(10)})"
   ]
  },
  {
   "cell_type": "code",
   "execution_count": null,
   "metadata": {},
   "outputs": [],
   "source": [
    "type(kk['A'].values)"
   ]
  }
 ],
 "metadata": {
  "kernelspec": {
   "display_name": "Python 3",
   "language": "python",
   "name": "python3"
  },
  "language_info": {
   "codemirror_mode": {
    "name": "ipython",
    "version": 2
   },
   "file_extension": ".py",
   "mimetype": "text/x-python",
   "name": "python",
   "nbconvert_exporter": "python",
   "pygments_lexer": "ipython2",
   "version": "2.7.15"
  }
 },
 "nbformat": 4,
 "nbformat_minor": 2
}
