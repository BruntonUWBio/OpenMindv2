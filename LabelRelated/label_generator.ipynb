{
 "cells": [
  {
   "cell_type": "code",
   "execution_count": 2,
   "metadata": {},
   "outputs": [],
   "source": [
    "import numpy as np\n",
    "import matplotlib.pyplot as plt\n",
    "import pandas as pd\n",
    "import warnings"
   ]
  },
  {
   "cell_type": "code",
   "execution_count": 73,
   "metadata": {},
   "outputs": [],
   "source": [
    "class Label_generator:\n",
    "    def __init__(self,path,wsize=30,start=0,stop=None):\n",
    "        if path.endswith('.csv'):\n",
    "            self.df=pd.read_csv(path,error_bad_lines=False, low_memory=False)#,dtype={'realtime':'datetime64'})\n",
    "        elif path.endswith('.hdf'):\n",
    "            self.df=pd.read_hdf(path,error_bad_lines=False, low_memory=False)#,dtype={'realtime':'datetime64'})\n",
    "        self.fps=31\n",
    "        #account for 30FPS\n",
    "        self.start=start*self.fps\n",
    "        if stop is None:\n",
    "            self.stop=self.df.shape[0]\n",
    "        else:\n",
    "            self.stop=stop*self.fps\n",
    "        self.wsize=wsize\n",
    "        self.df=self.df.iloc[self.start:self.stop]#,self.df.columns!= 'datetime']\n",
    "        #self._convert_to_unix_time()\n",
    "        self._bin_preds()\n",
    "    \n",
    "    #not needed atm    \n",
    "#     def _convert_to_unix_time(self):        \n",
    "#         #unix time in miliseconds\n",
    "#         newcol = (pd.DatetimeIndex(self.df['realtime'])).astype(np.int64)//10**(6)\n",
    "#         self.df=self.df.assign(unix_time=newcol)\n",
    "    \n",
    "    def _bin_preds(self):\n",
    "        annot=self.df['Happy_predicted'].values\n",
    "        #bin s.t. each column is one sec.\n",
    "        end=annot.shape[0]//self.fps\n",
    "        self.pred_bin=annot[:self.fps*end].reshape(self.fps,-1)\n",
    "\n",
    "    #generates labels. Use sliding window if features are also generated with sliding window\n",
    "    #if a classification method is used, we need a cutoff somewhere :)\n",
    "    def generate_labels(self,start=0, end=None, mask=None, sliding_window= False,method='ratio', classification=False, cutoff=.07):\n",
    "        if mask is None:\n",
    "            print('Warning. No filtering mask for bad data points was given. Assuming perfectly clean dataset.')\n",
    "            mask=np.zeros(self.pred_bin.shape[1],dtype='bool')\n",
    "        if end is None:\n",
    "            end=self.pred_bin.shape[1]-1\n",
    "        if end >= self.pred_bin.shape[1]:\n",
    "            end=self.pred_bin.shape[1]-1\n",
    "            print('Desired window too long. Setting to %d'% end)\n",
    "        if(method=='ratio'):\n",
    "            #average \"happiness\" per second\n",
    "            happy_portion=np.mean(self.pred_bin,axis=0)\n",
    "            if(sliding_window):\n",
    "                self.labels=[]\n",
    "                time_it=start\n",
    "                while True:\n",
    "                    stop=time_it+self.wsize\n",
    "                    curr_mask=np.ma.compressed(np.ma.masked_array(range(time_it,stop),mask=mask[time_it:stop]))\n",
    "                    curr_data=happy_portion[curr_mask]\n",
    "                    if not curr_data.size:\n",
    "                        time_it+=1\n",
    "                        if time_it+self.wsize > end:\n",
    "                            break\n",
    "                        continue\n",
    "                    self.labels+=[np.mean(curr_data)]\n",
    "                    time_it+=1\n",
    "                    if time_it+self.wsize > end:\n",
    "                        break\n",
    "                self.labels=np.array(self.labels)\n",
    "            else:\n",
    "                #take average over windows size\n",
    "                end=(end-start)//self.wsize\n",
    "                sprt=happy_portion[start:start+end*self.wsize].reshape(self.wsize,-1)\n",
    "                #before applying mean, take only values that we want in this. use mask for that\n",
    "                mask=mask[start:start+end*self.wsize].reshape(self.wsize,-1)\n",
    "                masked_windows=np.ma.array(sprt, mask=mask)\n",
    "                self.labels=np.ma.compressed(np.ma.mean(masked_windows,axis=0))\n",
    "        elif method=='median':\n",
    "            self.labels=[]\n",
    "            time_it=start\n",
    "            while True:\n",
    "                stop=time_it+self.wsize\n",
    "                curr_mask=np.ma.compressed(np.ma.masked_array(range(time_it,stop),mask=mask[time_it:stop]))\n",
    "                curr_data=self.pred_bin[:,curr_mask]\n",
    "                if not curr_data.size:\n",
    "                    print('A whole batch of labels was thrown away here. Check if this is correct')\n",
    "                    if (sliding_window):\n",
    "                        time_it+=1\n",
    "                    else:\n",
    "                        time_it+=self.wsize\n",
    "                    if time_it+self.wsize > end:\n",
    "                        break\n",
    "                    continue\n",
    "                #get rid of NANs\n",
    "                curr_data=curr_data.flatten()\n",
    "                curr_data=[c for c in curr_data if c!='N/A']\n",
    "                med=np.median(np.array(curr_data))\n",
    "                if med==.5:\n",
    "                    print(np.array(curr_data).shape)\n",
    "                    print(curr_data)\n",
    "                    print(np.median(curr_data))\n",
    "                    print(np.unique(np.array(curr_data),return_counts=True))\n",
    "                self.labels+=[med]\n",
    "                if sliding_window:\n",
    "                    time_it+=1\n",
    "                else:\n",
    "                    time_it+=self.wsize\n",
    "                if time_it+self.wsize > end:\n",
    "                    break\n",
    "            self.labels=np.array(self.labels)\n",
    "        else:\n",
    "            raise NameError('The given method does not exist. Try one of the following: ratio,classification.')\n",
    "        if(classification):\n",
    "            self.labels[self.labels>cutoff]=1\n",
    "            self.labels[self.labels<1]=0\n",
    "            \n",
    "        return self.labels\n"
   ]
  },
  {
   "cell_type": "code",
   "execution_count": 74,
   "metadata": {},
   "outputs": [],
   "source": [
    "test=Label_generator('/home/emil/data/hdf_data/cb46fd46_8_imp_columns.hdf',start=0,stop=32001)"
   ]
  },
  {
   "cell_type": "code",
   "execution_count": 75,
   "metadata": {},
   "outputs": [
    {
     "name": "stdout",
     "output_type": "stream",
     "text": [
      "Warning. No filtering mask for bad data points was given. Assuming perfectly clean dataset.\n",
      "(458,)\n",
      "[True, True, True, True, True, True, True, True, True, True, True, True, True, True, True, True, True, True, True, True, True, True, True, True, True, True, True, True, True, True, True, True, True, True, True, True, True, True, True, True, False, False, False, False, False, True, True, True, True, True, True, True, True, True, True, True, True, True, True, True, False, False, False, False, False, False, False, False, False, False, False, False, False, False, False, False, False, False, False, False, False, False, False, False, False, False, False, False, False, False, False, False, False, False, False, False, False, False, False, False, False, False, False, False, False, False, False, False, False, False, False, False, False, False, False, False, False, False, False, False, True, True, True, True, True, True, True, True, True, True, True, True, True, True, True, True, True, True, True, True, True, True, True, True, False, False, False, True, True, False, False, False, False, False, False, False, False, False, False, False, False, False, False, False, False, False, False, False, False, False, False, False, False, False, False, False, False, False, False, True, True, True, True, True, True, True, True, True, True, True, True, True, True, False, False, False, False, False, True, True, True, True, True, True, True, True, True, True, True, True, True, True, True, True, True, True, True, True, True, True, True, True, True, True, True, True, True, True, False, False, False, False, False, False, False, True, True, True, True, True, True, True, True, True, True, True, True, True, True, True, True, True, True, False, False, False, False, False, False, False, False, False, False, False, False, True, True, True, True, True, True, True, True, True, True, True, True, True, True, True, True, True, True, True, True, True, True, True, True, True, True, True, True, True, True, False, False, False, False, False, False, False, False, False, False, False, False, False, False, False, False, False, False, False, False, False, False, False, False, False, False, False, False, False, False, True, True, True, True, True, True, True, True, True, True, True, True, True, True, True, True, True, True, True, True, True, True, True, True, True, True, True, True, True, True, False, False, False, False, False, False, False, False, False, False, False, False, False, False, False, False, False, False, False, False, False, False, False, False, False, False, False, False, False, False, False, False, False, False, False, False, False, False, False, False, False, False, False, False, False, False, False, False, False, False, False, False, False, False, False, False, False, False, False, False, False, False, False, False, False, False, False, False, False, False, False, False, False, True, True, True, True, True, True, True, True, True, True, True, True, False, True, True, True, False, True, True, True, True, True, True, True, False, True, True, True, False, True]\n",
      "0.5\n",
      "(array([False,  True], dtype=bool), array([229, 229]))\n"
     ]
    }
   ],
   "source": [
    "mas=test.generate_labels(method='median')"
   ]
  },
  {
   "cell_type": "code",
   "execution_count": 58,
   "metadata": {},
   "outputs": [
    {
     "data": {
      "text/plain": [
       "array([ 0. ,  0.5,  1. ,  nan])"
      ]
     },
     "execution_count": 58,
     "metadata": {},
     "output_type": "execute_result"
    }
   ],
   "source": [
    "np.unique(mas)"
   ]
  },
  {
   "cell_type": "code",
   "execution_count": 77,
   "metadata": {},
   "outputs": [
    {
     "data": {
      "text/plain": [
       "Text(0,0.5,'time')"
      ]
     },
     "execution_count": 77,
     "metadata": {},
     "output_type": "execute_result"
    },
    {
     "data": {
      "image/png": "[encoded data removed]",
      "text/plain": [
       "<Figure size 432x288 with 1 Axes>"
      ]
     },
     "metadata": {
      "needs_background": "light"
     },
     "output_type": "display_data"
    }
   ],
   "source": [
    "plt.plot(mas)\n",
    "plt.title('Median over Windows of size %d ' %test.wsize)\n",
    "plt.xlabel('Median')\n",
    "plt.ylabel('time')"
   ]
  },
  {
   "cell_type": "code",
   "execution_count": null,
   "metadata": {},
   "outputs": [],
   "source": [
    "#test=Label_generator('/home/emil/data/hdf_data/cb46fd46_8_imp_columns.hdf',start=11,stop=43205)\n",
    "\n",
    "# mas=test.generate_labels(start=0, end=30000,method='ratio',mask=None)\n",
    "\n",
    "# # plt.plot(np.mean(test.pred_bin,axis=0))\n",
    "# # plt.xlabel('sec')\n",
    "# # plt.ylabel('Happy prediction')\n",
    "\n",
    "\n",
    "# # plt.plot(test.labels)\n",
    "# # plt.xlabel('window')\n",
    "# plt.ylabel('Happy prediction')"
   ]
  }
 ],
 "metadata": {
  "kernelspec": {
   "display_name": "Python 3",
   "language": "python",
   "name": "python3"
  },
  "language_info": {
   "codemirror_mode": {
    "name": "ipython",
    "version": 2
   },
   "file_extension": ".py",
   "mimetype": "text/x-python",
   "name": "python",
   "nbconvert_exporter": "python",
   "pygments_lexer": "ipython2",
   "version": "2.7.15"
  }
 },
 "nbformat": 4,
 "nbformat_minor": 2
}
