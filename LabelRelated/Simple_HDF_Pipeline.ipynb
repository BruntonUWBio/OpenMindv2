{
 "cells": [
  {
   "cell_type": "code",
   "execution_count": null,
   "metadata": {},
   "outputs": [],
   "source": [
    "import pandas as pd\n",
    "from dask import dataframe as dd"
   ]
  },
  {
   "cell_type": "code",
   "execution_count": null,
   "metadata": {},
   "outputs": [],
   "source": [
    "df=dd.read_hdf('/data/users/valentina/OpenFaceFeatures/all_aus_cleaned/cb46fd46_8*.hdf','/data')"
   ]
  },
  {
   "cell_type": "code",
   "execution_count": null,
   "metadata": {},
   "outputs": [],
   "source": [
    "for c in df.columns:\n",
    "    print (c)"
   ]
  },
  {
   "cell_type": "code",
   "execution_count": null,
   "metadata": {},
   "outputs": [],
   "source": [
    "#@TODO add realtime once available\n",
    "imp_columns=['patient','session','vid','frame','timestamp','success','Happy_predicted', 'Happy_predicted_proba']\n",
    "df=df[imp_columns].compute()"
   ]
  },
  {
   "cell_type": "code",
   "execution_count": null,
   "metadata": {},
   "outputs": [],
   "source": [
    "#if success==False (i.e. could not detect AU), set happy pred to N/A\n",
    "df.loc[df.success==0, 'Happy_predicted'] = 'N/A'"
   ]
  },
  {
   "cell_type": "code",
   "execution_count": null,
   "metadata": {},
   "outputs": [],
   "source": [
    "df"
   ]
  },
  {
   "cell_type": "code",
   "execution_count": null,
   "metadata": {},
   "outputs": [],
   "source": [
    "df.to_hdf('../data/hdf_data/cb46fd46/cb46fd46_8_imp_columns.hdf', key='df')"
   ]
  }
 ],
 "metadata": {
  "kernelspec": {
   "display_name": "Python (openmind)",
   "language": "python",
   "name": "openmind"
  },
  "language_info": {
   "codemirror_mode": {
    "name": "ipython",
    "version": 2
   },
   "file_extension": ".py",
   "mimetype": "text/x-python",
   "name": "python",
   "nbconvert_exporter": "python",
   "pygments_lexer": "ipython2",
   "version": "2.7.15"
  }
 },
 "nbformat": 4,
 "nbformat_minor": 2
}
