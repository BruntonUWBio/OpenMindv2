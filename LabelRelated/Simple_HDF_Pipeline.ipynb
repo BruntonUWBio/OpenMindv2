{
 "cells": [
  {
   "cell_type": "code",
   "execution_count": 1,
   "metadata": {},
   "outputs": [],
   "source": [
    "## This file extracts data from the hdf files that contain the predictions coming from Gauthams OpenFace\n",
    "## It gets the raw Happy/Not Happy predictions per frame, per session"
   ]
  },
  {
   "cell_type": "code",
   "execution_count": 1,
   "metadata": {},
   "outputs": [],
   "source": [
    "import pandas as pd\n",
    "from dask import dataframe as dd"
   ]
  },
  {
   "cell_type": "code",
   "execution_count": 3,
   "metadata": {},
   "outputs": [
    {
     "name": "stderr",
     "output_type": "stream",
     "text": [
      "/home/emil/miniconda3/envs/emocog/lib/python3.7/site-packages/pandas/core/generic.py:2377: PerformanceWarning: \n",
      "your performance may suffer as PyTables will pickle object types that it cannot\n",
      "map directly to c-types [inferred_type->mixed,key->block3_values] [items->['patient', 'annotated', 'session', 'vid', 'datetime']]\n",
      "\n",
      "  return pytables.to_hdf(path_or_buf, key, self, **kwargs)\n"
     ]
    }
   ],
   "source": [
    "for sess in [2,4,5,7,8,10,11]:\n",
    "    link='/home/emil/data/hdf_data/split_by_video/cb46fd46_'+str(sess)+'*.hdf'\n",
    "    rdd=dd.read_hdf(link,'/data')\n",
    "    #@TODO add realtime once available\n",
    "    imp_columns=['patient','success','frame','timestamp','annotated','confidence','session','vid','Happy_predicted','datetime','realtime']\n",
    "    df=rdd[imp_columns].compute()\n",
    "\n",
    "    #if success==False (i.e. could not detect AU), set happy pred to N/A\n",
    "    df.loc[df.success==0, 'Happy_predicted'] = float('NaN')\n",
    "\n",
    "    #sort by datetime and reset the indices\n",
    "    df.sort_values(by=['realtime'],inplace=True)\n",
    "    df.reset_index(drop=True,inplace=True)\n",
    "\n",
    "    # def is_df_sorted(df, colname):\n",
    "    #     return pd.Index(df[colname]).is_monotonic\n",
    "\n",
    "    # is_df_sorted(df,'realtime')\n",
    "    link_save='/home/emil/data/hdf_data/cb46fd46_'+str(sess)+'_imp_columns.hdf'\n",
    "    df.to_hdf(link_save, key='df')"
   ]
  },
  {
   "cell_type": "code",
   "execution_count": null,
   "metadata": {},
   "outputs": [],
   "source": []
  }
 ],
 "metadata": {
  "kernelspec": {
   "display_name": "P3 emocog",
   "language": "python",
   "name": "emocog"
  },
  "language_info": {
   "codemirror_mode": {
    "name": "ipython",
    "version": 3
   },
   "file_extension": ".py",
   "mimetype": "text/x-python",
   "name": "python",
   "nbconvert_exporter": "python",
   "pygments_lexer": "ipython3",
   "version": "3.7.3"
  }
 },
 "nbformat": 4,
 "nbformat_minor": 2
}
