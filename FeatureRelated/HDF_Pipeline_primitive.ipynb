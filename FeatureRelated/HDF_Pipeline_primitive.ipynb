{
 "cells": [
  {
   "cell_type": "code",
   "execution_count": null,
   "metadata": {},
   "outputs": [],
   "source": [
    "import numpy as np\n",
    "import os\n",
    "import matplotlib.pyplot as plt\n",
    "import pandas as pd"
   ]
  },
  {
   "cell_type": "code",
   "execution_count": null,
   "metadata": {},
   "outputs": [],
   "source": [
    "def find_paths_to_pat_data(pat_sess):\n",
    "    abspath='/data/users/gvelchuru/OpenFaceTests'\n",
    "    for(dirpath,dirnames,filenames) in os.walk(abspath):\n",
    "        return (os.path.join(os.path.sep,abspath,f,'hdfs','au.hdf') for f in dirnames if f.startswith(pat_sess))"
   ]
  },
  {
   "cell_type": "code",
   "execution_count": null,
   "metadata": {},
   "outputs": [],
   "source": [
    "paths=find_paths_to_pat_data('cb46fd46_5')"
   ]
  },
  {
   "cell_type": "code",
   "execution_count": null,
   "metadata": {},
   "outputs": [],
   "source": [
    "#for each patient, read all the hdf files\n",
    "for i,path in enumerate(paths):\n",
    "    if i==0:\n",
    "        df=pd.read_hdf(path)\n",
    "    else:\n",
    "        df_temp=pd.read_hdf(path)\n",
    "        df=pd.concat([df,df_temp],ignore_index=True)"
   ]
  },
  {
   "cell_type": "code",
   "execution_count": null,
   "metadata": {},
   "outputs": [],
   "source": [
    "print(df.keys())"
   ]
  },
  {
   "cell_type": "code",
   "execution_count": null,
   "metadata": {},
   "outputs": [],
   "source": [
    "imp_columns=['vid', 'frame', ' timestamp','patient','session','annotated', 'Happy_predicted',' confidence']\n",
    "pat_im_data=df[imp_columns]\n",
    "# #which session are there for this patient?\n",
    "# sessions=pat_im_data['session'].unique()\n",
    "# #split this into its respective sessions\n",
    "# for sess in sessions:\n",
    "#     sess_data=pat_im_data[pat_im_data['session']==sess]\n",
    "#     #order it by video and timestamp in video:\n",
    "sess_data_sorted=pat_im_data.sort_values(['vid', ' timestamp'])\n",
    "sess_data_sorted=sess_data_sorted.reset_index(drop=True)"
   ]
  },
  {
   "cell_type": "code",
   "execution_count": null,
   "metadata": {},
   "outputs": [],
   "source": [
    "cats,vals=np.unique(sess_data_sorted['Happy_predicted'],return_counts=True)\n",
    "print(cats,vals)"
   ]
  },
  {
   "cell_type": "code",
   "execution_count": null,
   "metadata": {},
   "outputs": [],
   "source": [
    "plt.plot(cats[np.arange(len(cats))!=2],vals[np.arange(len(cats))!=2])"
   ]
  },
  {
   "cell_type": "code",
   "execution_count": null,
   "metadata": {},
   "outputs": [],
   "source": [
    "plt.plot(sess_data_sorted['Happy_predicted'])"
   ]
  },
  {
   "cell_type": "code",
   "execution_count": null,
   "metadata": {},
   "outputs": [],
   "source": []
  }
 ],
 "metadata": {
  "kernelspec": {
   "display_name": "Python 3",
   "language": "python",
   "name": "python3"
  },
  "language_info": {
   "codemirror_mode": {
    "name": "ipython",
    "version": 2
   },
   "file_extension": ".py",
   "mimetype": "text/x-python",
   "name": "python",
   "nbconvert_exporter": "python",
   "pygments_lexer": "ipython2",
   "version": "2.7.15"
  }
 },
 "nbformat": 4,
 "nbformat_minor": 2
}
