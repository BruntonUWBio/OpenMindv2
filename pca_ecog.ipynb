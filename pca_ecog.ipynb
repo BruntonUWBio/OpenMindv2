{
 "cells": [
  {
   "cell_type": "code",
   "execution_count": 1,
   "metadata": {},
   "outputs": [],
   "source": [
    "#%matplotlib inline\n",
    "\n",
    "import numpy as np\n",
    "import pandas as pd\n",
    "import matplotlib.pyplot as plt\n",
    "import mne\n",
    "from sklearn.decomposition import PCA\n",
    "from sklearn import datasets\n",
    "from sklearn.model_selection import train_test_split\n",
    "from scipy.fftpack import fft, fftfreq\n",
    "from scipy import signal\n",
    "from tqdm import tqdm\n",
    "from sklearn.preprocessing import StandardScaler\n",
    "import seaborn as sns\n",
    "from mpl_toolkits.mplot3d import Axes3D\n",
    "from matplotlib import pyplot\n",
    "import h5py\n",
    "from simple_edf_preprocessing import Preprocessor"
   ]
  },
  {
   "cell_type": "code",
   "execution_count": 2,
   "metadata": {},
   "outputs": [],
   "source": [
    "# #create a ECOG PCA class for its PCA object, hyperparas and other stuff\n",
    "# class PCA_Ecog:\n",
    "#     def __init__(self, raw=None, pca_obj=None,wsize=2):\n",
    "#         self.pca=pca_obj\n",
    "#         self.raw=raw\n",
    "#         #hyperpara in s for how large the time window should be on whihc we calculate our fourier trafo\n",
    "#         self.wsize=wsize\n",
    "#         #sampling frequency and last sample taken\n",
    "#         if(self.raw != None):\n",
    "#             self.sfreq=self.raw.info['sfreq']\n",
    "#             self.end=self.raw.time_as_index(len(raw))\n",
    "#         else:\n",
    "#             self.sfreq=None\n",
    "#             self.end=None\n",
    "        \n",
    "#     #load some EDF data   \n",
    "#     def read_in_raw(self, fpath):\n",
    "#         self.raw=mne.io.read_raw_edf(fpath)\n",
    "#         #TODO exclude bad channels\n",
    "#         self.sfreq=self.raw.info['sfreq']\n",
    "#         self.end=self.raw.time_as_index(len(self.raw))\n",
    "\n",
    "        \n",
    "#     def demean_and_scale(self, data,ax=0):\n",
    "#         self.data_mean=np.mean(data,axis=ax)\n",
    "#         data_dem=data-self.data_mean\n",
    "#         self.data_scal=1000000\n",
    "#         data_scal=self.data_scal*data_dem\n",
    "#         return data_scal\n",
    "    \n",
    "        \n",
    "#     #create matrix as follows:\n",
    "#     #columns: channels, for each channel the 200 frequencies (0-200Hz) (hece freq*cha length)\n",
    "#     #rows: Time steps\n",
    "#     #resulting matrix is 2D, Time Stepsx(Freq*Channels)\n",
    "#     #note that this matrix is prone to constant change. Save the current data as member variable\n",
    "#     def calc_data_mat(self,time_sta,time_stp):\n",
    "#         if(self.raw==None):\n",
    "#             raise ValueError('Raw Data not set.')\n",
    "#         time_it=time_sta\n",
    "#         while True:\n",
    "#             #calculate times in sample points\n",
    "#             start, stop = self.raw.time_as_index([time_it,time_it+self.wsize])\n",
    "#             #get data of ALL channels except the Event and the stim channel, which are weird.\n",
    "#             data=self.raw.get_data(picks=range(1,self.raw.info['nchan']-1),start=start,stop=stop,reject_by_annotation=None,return_times=False)\n",
    "#             #welch method TODO check if this works like this\n",
    "#             fr,psd=signal.welch(data,self.sfreq)\n",
    "#             self.fr=fr[fr<=200]\n",
    "#             #truncate everythin above 200Hz\n",
    "#             psd=psd[:,fr<=200]\n",
    "#             self.psd=psd\n",
    "#             if time_it==time_sta:\n",
    "#                 #first time. create first column, flatten w/o argument is row major \n",
    "#                 mat=psd.flatten()\n",
    "#                 print('heyo',mat.shape)\n",
    "#             else:\n",
    "#                 #after, add column for each time step\n",
    "#                 mat=np.column_stack((mat,psd.flatten()))\n",
    "#             time_it+=self.wsize\n",
    "#             if time_it >= time_stp+self.wsize:\n",
    "#                 break\n",
    "#         data_scal=self.demean_and_scale(mat.T)\n",
    "#         self.curr_data=data_scal\n",
    "#         return data_scal\n",
    "\n",
    "#     def vis_raw_data(self, start, stop, chans=None):\n",
    "#         if(self.raw==None):\n",
    "#             raise ValueError('Raw Data not set (yet)')\n",
    "#         if chans is None:\n",
    "#             chans=range(1,self.raw.info['nchan'])\n",
    "#         st,stp=self.raw.time_as_index([start,stop])\n",
    "#         print(st,stp)\n",
    "#         #TODO optimize this out\n",
    "#         data=self.raw.get_data(picks=chans,start=st,stop=stp,reject_by_annotation=None,return_times=False)\n",
    "#         for p in range(0,len(chans)-1):\n",
    "#             plt.plot(data[p])\n",
    "#         plt.show()\n",
    "    \n",
    "#     def vis_welch_data(self,start,stop,no_chan=None):\n",
    "#         #first, remean and unscale\n",
    "#         rem=self.curr_data[start:stop,:].T/self.data_scal+self.data_mean[:,np.newaxis]\n",
    "#         print(self.data_mean.shape,'this is shape')\n",
    "#         print('data')\n",
    "#         print(self.curr_data[start:stop,4000].T)\n",
    "#         plt.imshow(np.log(rem)*100000,cmap='viridis',aspect='auto')\n",
    "#         print(rem.shape)\n",
    "#         print(rem[4000,:])"
   ]
  },
  {
   "cell_type": "code",
   "execution_count": 2,
   "metadata": {},
   "outputs": [],
   "source": [
    "#create a ECOG PCA class for its PCA object, hyperparas and other stuff\n",
    "class PCA_Ecog_preprocessed:\n",
    "    def __init__(self,path=None,pca_obj=None,wsize=30):\n",
    "        self.pca=pca_obj\n",
    "        #hyperpara in s for how large the time window should be on whihc we calculate our fourier trafo\n",
    "        self.wsize=wsize\n",
    "        #sampling frequency and last sample taken\n",
    "        if(path != None):\n",
    "            self.df=df=h5py.File(path)\n",
    "            #preprocess data\n",
    "            self.Preprocessor=Preprocessor(self.df)\n",
    "            self.data,self.bad_chan,self.bad_idx=self.Preprocessor.preprocess()\n",
    "            self.data=self.data[self.bad_chan!=True]\n",
    "            self.sfreq=self.df['f_sample'][()]\n",
    "            #how many samples in this dataset?\n",
    "            self.end=self.data.shape[1]-1\n",
    "            \n",
    "        else:\n",
    "            self.df=None\n",
    "            self.sfreq=None\n",
    "            self.end=None\n",
    "        \n",
    "      \n",
    "    def standardize(self, data,ax=0):\n",
    "        self.data_mean=np.mean(data,axis=ax)\n",
    "        data_dem=data-self.data_mean\n",
    "        std=np.std(data,axis=ax)\n",
    "        data_stand=data_dem/std\n",
    "        #self.data_scal=1000000\n",
    "        #data_scal=self.data_scal*data_dem\n",
    "        #return data_scal\n",
    "        return data_stand\n",
    "    \n",
    "#this function caps at 200Hz, then bins the data in a logarithmic fashion to account for smaller psd values in higher freqs\n",
    "    def bin_psd(self,fr,psd):\n",
    "        fr_trun=fr[fr<=200]\n",
    "        fr_total=len(fr_trun)\n",
    "        fr_bins=np.arange(int(np.log2(fr_total)+1))\n",
    "        #truncate everythin above 200Hz\n",
    "        psd=psd[:,fr<=200]\n",
    "        psd_bins=np.zeros((psd.shape[0],len(fr_bins)))\n",
    "        prev=0\n",
    "        max_psd_per_bin=np.exp2(fr_bins).astype('int')\n",
    "        prev=0\n",
    "        for b in fr_bins:\n",
    "            if (b==len(fr_bins) or max_psd_per_bin[b]>=psd.shape[1]):\n",
    "                psd_bins[:,b]+=np.sum(psd[:,prev:],axis=1)\n",
    "            else:\n",
    "                psd_bins[:,b]=np.sum(psd[:,prev:max_psd_per_bin[b]],axis=1)\n",
    "            prev=max_psd_per_bin[b]\n",
    "        return fr_bins, psd_bins\n",
    "\n",
    "    \n",
    "        \n",
    "    #create matrix as follows:\n",
    "    #columns: channels, for each channel the 200 frequencies (0-200Hz) (hece freq*cha length) BUT BINNED logarithmically\n",
    "    #rows: Time steps\n",
    "    #resulting matrix is 2D, Time Stepsx(Freq*Channels)\n",
    "    #note that this matrix is prone to constant change. Save the current data as member variable\n",
    "    def calc_data_mat(self,time_sta,time_stp):\n",
    "        if(self.df==None):\n",
    "            raise ValueError('Raw Data not set.')\n",
    "        time_it=time_sta\n",
    "        while True:\n",
    "            if (time_it+pecog.wsize)*pecog.sfreq>=pecog.data.shape[1]-1:\n",
    "                print('Not enough data for set end %d. Returning all data that is available in given range.'% time_stp)\n",
    "                break\n",
    "            #calculate times in sample points. Make use of frequency\n",
    "            start=int(time_it*self.sfreq)\n",
    "            stop=int((time_it+self.wsize)*self.sfreq)\n",
    "            #get data of ALL channels\n",
    "            curr_data=self.data[:,start:stop]\n",
    "            #welch method TODO check if this works like this\n",
    "            fr,psd=signal.welch(curr_data,self.sfreq)\n",
    "            fr_bins,psd_bins=self.bin_psd(fr,psd)\n",
    "            if time_it==time_sta:\n",
    "                self.fr_bins=fr_bins\n",
    "                #first time. create first column, flatten w/o argument is row major \n",
    "                mat=psd_bins.flatten()\n",
    "                print('heyo',mat.shape)\n",
    "            else:\n",
    "                #after, add column for each time step\n",
    "                mat=np.column_stack((mat,psd_bins.flatten()))\n",
    "            time_it+=self.wsize\n",
    "            if time_it+pecog.wsize >= time_stp:\n",
    "                break\n",
    "        data_scal=self.standardize(mat.T)\n",
    "        self.curr_data=data_scal\n",
    "        return data_scal\n",
    "    \n",
    "#TODO MAKE THIS APPROPRIATE\n",
    "    def vis_raw_data(self, start, stop, chans=None):\n",
    "        if(self.df==None):\n",
    "            raise ValueError('Raw Data not set (yet)')\n",
    "        if chans is None:\n",
    "            chans=range(self.data.shape[0])\n",
    "        st=int(start*self.sfreq)\n",
    "        stp=int(stop*self.sfreq)\n",
    "        data=self.data[:,st:stp]\n",
    "        for p in range(0,len(chans)-1):\n",
    "            plt.plot(data[p])\n",
    "        plt.show()\n",
    "    \n",
    "    def vis_welch_data(self,start,stop,no_chan=None):\n",
    "        #first, remean and unscale\n",
    "        rem=self.curr_data[start:stop,:].T/self.data_scal+self.data_mean[:,np.newaxis]\n",
    "        print(self.data_mean.shape,'this is shape')\n",
    "        print('data')\n",
    "        print(self.curr_data[start:stop,4000].T)\n",
    "        plt.imshow(np.log(rem)*100000,cmap='viridis',aspect='auto')\n",
    "        print(rem.shape)\n",
    "        print(rem[4000,:])\n",
    "\n",
    "        #get elbow curve\n",
    "    def elbow_curve(self):\n",
    "        components = range(1, self.data.shape[1] + 1)\n",
    "        explained_variance = []\n",
    "        for component in tqdm(components[:50]):\n",
    "            pca = PCA(n_components=component)\n",
    "            pca.fit(data)\n",
    "            explained_variance.append(sum(pca.explained_variance_ratio_))\n",
    "        sns_plot = sns.regplot(\n",
    "            x=np.array(components[:50]), y=explained_variance,\n",
    "            fit_reg=False).get_figure()"
   ]
  },
  {
   "cell_type": "code",
   "execution_count": 3,
   "metadata": {
    "scrolled": true
   },
   "outputs": [
    {
     "name": "stdout",
     "output_type": "stream",
     "text": [
      "('df', (97, 43200500))\n"
     ]
    }
   ],
   "source": [
    "#raw_d=mne.io.read_raw_edf('/data1/ecog_project/edf/aa9da7b2/aa9da7b2_5.edf')\n",
    "#pecog=PCA_Ecog(raw=raw_d)\n",
    "pecog=PCA_Ecog_preprocessed('/data2/users/stepeter/Preprocessing/Reref/processed_cb46fd46_5.h5')"
   ]
  },
  {
   "cell_type": "code",
   "execution_count": 4,
   "metadata": {},
   "outputs": [
    {
     "name": "stdout",
     "output_type": "stream",
     "text": [
      "('heyo', (525,))\n",
      "Not enough data for set end 100000. Returning all data that is available in given range.\n"
     ]
    }
   ],
   "source": [
    "#print(pecog.data[1,10:100])\n",
    "#wut=pecog.calc_data_mat(0,100000)\n",
    "wut=pecog.calc_data_mat(0,100000)\n",
    "#print(pecog.raw.info['nchan'])\n",
    "#print(data.flatten())\n",
    "\n"
   ]
  },
  {
   "cell_type": "code",
   "execution_count": 5,
   "metadata": {},
   "outputs": [
    {
     "name": "stdout",
     "output_type": "stream",
     "text": [
      "(75, 43200500)\n"
     ]
    }
   ],
   "source": [
    "print(pecog.data.shape)"
   ]
  },
  {
   "cell_type": "code",
   "execution_count": 10,
   "metadata": {},
   "outputs": [],
   "source": []
  },
  {
   "cell_type": "code",
   "execution_count": 6,
   "metadata": {},
   "outputs": [
    {
     "ename": "NameError",
     "evalue": "name 'elbow_curve' is not defined",
     "output_type": "error",
     "traceback": [
      "\u001b[0;31m---------------------------------------------------------------------------\u001b[0m",
      "\u001b[0;31mNameError\u001b[0m                                 Traceback (most recent call last)",
      "\u001b[0;32m<ipython-input-6-c2cc5bdfa232>\u001b[0m in \u001b[0;36m<module>\u001b[0;34m()\u001b[0m\n\u001b[0;32m----> 1\u001b[0;31m \u001b[0melbow_curve\u001b[0m\u001b[0;34m(\u001b[0m\u001b[0mwut\u001b[0m\u001b[0;34m)\u001b[0m\u001b[0;34m\u001b[0m\u001b[0m\n\u001b[0m\u001b[1;32m      2\u001b[0m \u001b[0;31m#choose first three components\u001b[0m\u001b[0;34m\u001b[0m\u001b[0;34m\u001b[0m\u001b[0m\n\u001b[1;32m      3\u001b[0m \u001b[0mpecog\u001b[0m\u001b[0;34m.\u001b[0m\u001b[0mpca\u001b[0m \u001b[0;34m=\u001b[0m \u001b[0mPCA\u001b[0m\u001b[0;34m(\u001b[0m\u001b[0mn_components\u001b[0m\u001b[0;34m=\u001b[0m\u001b[0;36m40\u001b[0m\u001b[0;34m)\u001b[0m\u001b[0;34m\u001b[0m\u001b[0m\n\u001b[1;32m      4\u001b[0m \u001b[0mpecog\u001b[0m\u001b[0;34m.\u001b[0m\u001b[0mpca\u001b[0m\u001b[0;34m.\u001b[0m\u001b[0mfit\u001b[0m\u001b[0;34m(\u001b[0m\u001b[0mwut\u001b[0m\u001b[0;34m)\u001b[0m\u001b[0;34m\u001b[0m\u001b[0m\n\u001b[1;32m      5\u001b[0m \u001b[0mdata_trafo\u001b[0m\u001b[0;34m=\u001b[0m\u001b[0mpecog\u001b[0m\u001b[0;34m.\u001b[0m\u001b[0mpca\u001b[0m\u001b[0;34m.\u001b[0m\u001b[0mtransform\u001b[0m\u001b[0;34m(\u001b[0m\u001b[0mwut\u001b[0m\u001b[0;34m)\u001b[0m\u001b[0;34m\u001b[0m\u001b[0m\n",
      "\u001b[0;31mNameError\u001b[0m: name 'elbow_curve' is not defined"
     ]
    }
   ],
   "source": [
    "elbow_curve(wut)\n",
    "#choose first three components\n",
    "pecog.pca = PCA(n_components=40)\n",
    "pecog.pca.fit(wut)\n",
    "data_trafo=pecog.pca.transform(wut)\n",
    "print(data_trafo.shape)\n"
   ]
  },
  {
   "cell_type": "code",
   "execution_count": null,
   "metadata": {},
   "outputs": [],
   "source": [
    "#visualize the components. That is, each column of the transformed data\n",
    "#for p in range(data_trafo.shape[1]):\n",
    "n_comps=40\n",
    "for p in range(n_comps):\n",
    "    plt.plot(data_trafo[:,p])\n",
    "plt.xlabel('Time (in w_size)')\n",
    "plt.ylabel('PC Value')\n",
    "plt.title('First '+str(n_comps)+' principal components')\n",
    "plt.show()"
   ]
  },
  {
   "cell_type": "code",
   "execution_count": null,
   "metadata": {},
   "outputs": [],
   "source": [
    "def test(start, stop, chans=None):\n",
    "    if(pecog.df==None):\n",
    "        raise ValueError('Raw Data not set (yet)')\n",
    "    if chans is None:\n",
    "        chans=range(pecog.data.shape[0])\n",
    "    st=int(start*pecog.sfreq)\n",
    "    stp=int(stop*pecog.sfreq)\n",
    "    data=pecog.data[:,st:stp]\n",
    "    for p in range(0,len(chans)-1):\n",
    "        plt.plot(data[p])\n",
    "    plt.show()"
   ]
  },
  {
   "cell_type": "code",
   "execution_count": null,
   "metadata": {},
   "outputs": [],
   "source": [
    "test(0,50000)"
   ]
  },
  {
   "cell_type": "code",
   "execution_count": 8,
   "metadata": {
    "collapsed": true
   },
   "outputs": [
    {
     "name": "stdout",
     "output_type": "stream",
     "text": [
      "[[-1691.52868652  -498.40115356]\n",
      " [-1576.88110352  -523.0960083 ]\n",
      " [-1868.70947266  -510.45141602]\n",
      " ..., \n",
      " [-2381.31665039  -981.75378418]\n",
      " [-2379.69921875 -1326.25854492]\n",
      " [-2360.61401367 -2149.74389648]]\n"
     ]
    },
    {
     "data": {
      "image/png": "[encoded data removed]",
      "text/plain": [
       "<Figure size 432x288 with 1 Axes>"
      ]
     },
     "metadata": {
      "needs_background": "light"
     },
     "output_type": "display_data"
    }
   ],
   "source": [
    "plt.scatter(data_trafo[:,0],data_trafo[:,1])\n",
    "print(data_trafo)"
   ]
  },
  {
   "cell_type": "code",
   "execution_count": null,
   "metadata": {},
   "outputs": [],
   "source": [
    "#bin the frequencies logarithmitically (higher frequencies are much lpwer -> bin them together)\n",
    "#standardize (mean and unit variance feature\n",
    "#go up to 150Hz\n",
    "#since we bin emotions as well, do a) regression on percentage, b) classification at cutoff\n",
    "#"
   ]
  },
  {
   "cell_type": "code",
   "execution_count": null,
   "metadata": {},
   "outputs": [],
   "source": [
    "#what are the outstsanding points here?\n",
    "time_idx=np.argwhere(data_trafo>2)[:,0]\n",
    "#what is happening at these points?\n",
    "#calculate back the time window:\n",
    "idx=time_idx*pecog.wsize\n",
    "print(idx)\n",
    "#calculate from time windows to sampling points\n",
    "start, stop = pecog.raw.time_as_index([idx[0]-5,idx[1]+5])\n",
    "inter=pecog.raw.get_data(picks=range(0,40), start=start, stop=stop,reject_by_annotation=None, return_times=False)\n",
    "print(inter.shape)"
   ]
  },
  {
   "cell_type": "code",
   "execution_count": null,
   "metadata": {},
   "outputs": [],
   "source": [
    "print(pecog.curr_data)"
   ]
  },
  {
   "cell_type": "code",
   "execution_count": null,
   "metadata": {},
   "outputs": [],
   "source": [
    "#pecog.vis_raw_data(idx[0]-5,idx[1]+5)\n",
    "pecog.vis_raw_data(0,idx[1]+400)\n",
    "pecog.vis_welch_data(50,time_idx[1]+200)"
   ]
  },
  {
   "cell_type": "code",
   "execution_count": null,
   "metadata": {},
   "outputs": [],
   "source": []
  },
  {
   "cell_type": "code",
   "execution_count": null,
   "metadata": {},
   "outputs": [],
   "source": [
    "good_data=pecog.calc_data_mat(idx[1]+100,idx[1]+400)\n",
    "pecog.pca.fit(good_data)\n",
    "good_data_trafo=pecog.pca.transform(good_data)\n",
    "print(good_data_trafo.shape)\n",
    "print(good_data.shape)\n"
   ]
  },
  {
   "cell_type": "code",
   "execution_count": null,
   "metadata": {},
   "outputs": [],
   "source": [
    "print(good_data.shape)\n",
    "print(good_data_trafo.shape)"
   ]
  },
  {
   "cell_type": "code",
   "execution_count": null,
   "metadata": {
    "scrolled": false
   },
   "outputs": [],
   "source": [
    "comps=pecog.pca.components_\n",
    "print(pecog.raw.info['ch_names'][28])\n",
    "print(comps.shape)\n",
    "comps=comps.reshape((127,-1,2))\n",
    "print(np.argmax(comps[:,:,1],axis=1))\n",
    "#plt.plot(comps[5:,5:,0].T)\n",
    "plt.plot(comps[:,:,1].T)\n",
    "plt.ylim(-0.005,0.005)"
   ]
  },
  {
   "cell_type": "code",
   "execution_count": null,
   "metadata": {},
   "outputs": [],
   "source": [
    "print(len(pecog.raw.info['chs']))"
   ]
  },
  {
   "cell_type": "code",
   "execution_count": null,
   "metadata": {},
   "outputs": [],
   "source": [
    "#print(data_trafo)\n",
    "plt.plot(good_data_trafo[:,0])\n",
    "plt.plot(good_data_trafo[:,1])\n",
    "#plt.xlim(-0.00001,0.00001)\n",
    "#plt.ylim(-0.00001,0.00001)\n",
    "\n",
    "#max(data_trafo[:,1])-min(data_trafo[:,1])"
   ]
  },
  {
   "cell_type": "code",
   "execution_count": null,
   "metadata": {},
   "outputs": [],
   "source": [
    "##TEST STUFF\n",
    "###functions for first insight. delete later\n",
    "start, stop = pecog.raw.time_as_index([0, 51+pecog.wsize])\n",
    "print(stop-start)\n",
    "channel=pecog.raw.get_data(picks=[4,5],start=start, stop=stop,reject_by_annotation=None, return_times=False)\n",
    "#data=np.squeeze(channel[0])\n",
    "\n",
    "# Get real amplitudes of FFT (only in postive frequencies)\n",
    "fft_vals = np.absolute(np.fft.rfft(channel))\n",
    "# Get frequencies for amplitudes in Hz\n",
    "fft_freq = np.fft.rfftfreq(len(channel[0,:]), 1.0/pecog.sfreq)\n",
    "#welch method\n",
    "fr,psd=signal.welch(channel,pecog.sfreq)\n",
    "\n",
    "#throw away everything above 100Hz for now (and 0)\n",
    "freqs=fft_freq[fft_freq<101][1:]\n",
    "vals=fft_vals[:,fft_freq<101][:,1:]\n",
    "\n",
    "\n",
    "plt.plot(fr,psd[0])\n",
    "plt.plot(fr,psd[1])\n",
    "\n",
    "#plt.plot(freqs,vals[1])\n",
    "#plt.plot(freqs,vals[0])\n",
    "\n",
    "#plt.plot(fft_freq[1:], fft_vals[1:])\n",
    "#plt.xlabel('Frequency')\n",
    "#plt.ylabel('Intensity')\n",
    "#plt.show()\n",
    "#plt.plot(freqs,vals)\n",
    "#plt.xlabel('Frequency')\n",
    "#plt.ylabel('Intensity')\n",
    "\n",
    "#for 3D\n",
    "# fig = pyplot.figure()\n",
    "# ax = Axes3D(fig)\n",
    "\n",
    "# ax.scatter(data_trafo[:,0],data_trafo[:,1],data_trafo[:,2],c='b')\n",
    "# pyplot.show()"
   ]
  }
 ],
 "metadata": {
  "kernelspec": {
   "display_name": "Python 3",
   "language": "python",
   "name": "python3"
  },
  "language_info": {
   "codemirror_mode": {
    "name": "ipython",
    "version": 2
   },
   "file_extension": ".py",
   "mimetype": "text/x-python",
   "name": "python",
   "nbconvert_exporter": "python",
   "pygments_lexer": "ipython2",
   "version": "2.7.15"
  }
 },
 "nbformat": 4,
 "nbformat_minor": 2
}
