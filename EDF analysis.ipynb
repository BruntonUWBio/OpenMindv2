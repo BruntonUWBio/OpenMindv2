{
 "cells": [
  {
   "cell_type": "code",
   "execution_count": 45,
   "metadata": {},
   "outputs": [],
   "source": [
    "import numpy as np\n",
    "import matplotlib.pyplot as plt\n",
    "import mne\n",
    "from mne import Epochs, find_events, create_info\n",
    "from mne.io import concatenate_raws, read_raw_edf\n",
    "import pandas as pd\n",
    "import h5py"
   ]
  },
  {
   "cell_type": "code",
   "execution_count": 44,
   "metadata": {},
   "outputs": [
    {
     "name": "stderr",
     "output_type": "stream",
     "text": [
      "ERROR:root:File `u'simpe_edf_preprocessing.ipynb.py'` not found.\n"
     ]
    }
   ],
   "source": [
    "%run simpe_edf_preprocessing.ipynb"
   ]
  },
  {
   "cell_type": "code",
   "execution_count": null,
   "metadata": {},
   "outputs": [],
   "source": [
    "raw = mne.io.read_raw_edf('/data1/ecog_project/ajile_data_release/a0f66459_day_5.edf')\n",
    "#raw.load_data()"
   ]
  },
  {
   "cell_type": "code",
   "execution_count": 46,
   "metadata": {},
   "outputs": [],
   "source": [
    "#data=pd.read_hdf('/data2/users/stepeter/Preprocessing/Reref/processed_a0f66459_5.h5')\n",
    "df=h5py.File('/data2/users/stepeter/Preprocessing/Reref/processed_a0f66459_5.h5')"
   ]
  },
  {
   "cell_type": "code",
   "execution_count": 47,
   "metadata": {},
   "outputs": [
    {
     "data": {
      "text/plain": [
       "[u'Kurt_channels',\n",
       " u'SD_channels',\n",
       " u'allChanArtifactInds',\n",
       " u'chanLabels',\n",
       " u'ecog_data',\n",
       " u'f_sample',\n",
       " u'time_sec']"
      ]
     },
     "execution_count": 47,
     "metadata": {},
     "output_type": "execute_result"
    }
   ],
   "source": [
    "list(df.keys())"
   ]
  },
  {
   "cell_type": "code",
   "execution_count": 34,
   "metadata": {},
   "outputs": [
    {
     "name": "stdout",
     "output_type": "stream",
     "text": [
      "<HDF5 dataset \"Kurt_channels\": shape (98,), type \"<f8\">\n",
      "<HDF5 dataset \"ecog_data\": shape (98, 43200500), type \"<f4\">\n",
      "<HDF5 dataset \"time_sec\": shape (43200500,), type \"<f4\">\n",
      "<HDF5 dataset \"chanLabels\": shape (), type \"|O\">\n",
      "1998400\n"
     ]
    }
   ],
   "source": [
    "#print(df['SD_channels'])\n",
    "#print(df['allChanArtifactInds'][:])\n",
    "print(df['Kurt_channels'])\n",
    "print(df['ecog_data'])\n",
    "print(df['time_sec'])\n",
    "print(df['chanLabels'])\n",
    "print(df['allChanArtifactInds'][0])"
   ]
  },
  {
   "cell_type": "code",
   "execution_count": null,
   "metadata": {},
   "outputs": [],
   "source": [
    "ecg=df['ecog_data']\n",
    "for p in range(ecg.shape[0]):\n",
    "    plt.plot(ecg[p,:3000])"
   ]
  },
  {
   "cell_type": "code",
   "execution_count": null,
   "metadata": {},
   "outputs": [],
   "source": [
    "#raw.plot(scalings='auto', lowpass=raw.info['lowpass']-0.00000001)\n",
    "raw.plot(scalings='auto',duration=80000, title='Patient aa9da7b2',remove_dc=True,n_channels=10,bad_color='red',lowpass=raw.info['lowpass']-0.00000001)"
   ]
  },
  {
   "cell_type": "code",
   "execution_count": null,
   "metadata": {},
   "outputs": [],
   "source": [
    "#get data from picks=channel=1 (AMGY1)\n",
    "channel=raw.get_data(picks=[2,3,6,40,10,15,18,20],start=0,reject_by_annotation=None, return_times=True)\n",
    "#t_f=mne.time_frequency.stft(channel[0][2],80)#, tstep=128)\n",
    "#t_f_abs=np.abs(t_f)\n",
    "#t_f_abs=np.squeeze(t_f_abs)\n",
    "#print(t_f_abs)"
   ]
  },
  {
   "cell_type": "code",
   "execution_count": null,
   "metadata": {},
   "outputs": [],
   "source": [
    "#plt.figure(figsize=(20,10))\n",
    "plt.imshow(np.log(t_f_abs),cmap='viridis',aspect='auto')\n",
    "plt.xlabel('Time window Index of STFT')\n",
    "plt.ylabel('Frequency')\n",
    "plt.gca().invert_yaxis()\n",
    "cb=plt.colorbar()\n",
    "cb.set_label('Intensity of Frequency per time window')\n"
   ]
  },
  {
   "cell_type": "code",
   "execution_count": null,
   "metadata": {
    "scrolled": true
   },
   "outputs": [],
   "source": [
    "plt.specgram(np.squeeze(channel[0][0]),Fs=1000)\n",
    "plt.xlabel('Time window Index of STFT')\n",
    "plt.ylabel('Frequency')\n",
    "cb=plt.colorbar()\n",
    "cb.set_label('Intensity of Frequency per time window')"
   ]
  },
  {
   "cell_type": "code",
   "execution_count": null,
   "metadata": {},
   "outputs": [],
   "source": [
    "for en,i in enumerate([2,3,6,40,10,15,18,20]):\n",
    "    ch_n=raw.info['chs'][i]['ch_name']\n",
    "    plt.plot(np.squeeze(channel[0][en]),label=str(ch_n))\n",
    "    \n",
    "plt.legend(loc='upper right', bbox_to_anchor=(1.22, 0.8),\n",
    "          fancybox=True, ncol=1)\n",
    "plt.xlabel('Time (s)')\n",
    "plt.ylabel('Activity (V)')"
   ]
  },
  {
   "cell_type": "code",
   "execution_count": null,
   "metadata": {},
   "outputs": [],
   "source": [
    "bool(True+True+True)\n"
   ]
  }
 ],
 "metadata": {
  "kernelspec": {
   "display_name": "Python 3",
   "language": "python",
   "name": "python3"
  },
  "language_info": {
   "codemirror_mode": {
    "name": "ipython",
    "version": 2
   },
   "file_extension": ".py",
   "mimetype": "text/x-python",
   "name": "python",
   "nbconvert_exporter": "python",
   "pygments_lexer": "ipython2",
   "version": "2.7.15"
  }
 },
 "nbformat": 4,
 "nbformat_minor": 2
}
